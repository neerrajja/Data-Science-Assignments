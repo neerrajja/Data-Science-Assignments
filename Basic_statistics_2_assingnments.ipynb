{
 "cells": [
  {
   "cell_type": "markdown",
   "id": "1d3acd9e-c457-4bc9-a8db-a686e584abba",
   "metadata": {},
   "source": [
    "## Estimation And Confidence Intervals\n",
    "\n",
    "Background\n",
    "\n",
    "In quality control processes, especially when dealing with high-value items,\n",
    "destructive sampling is a necessary but costly method to ensure product quality. \n",
    "The test to determine whether an item meets the quality standards destroys the item,\n",
    "leading to the requirement of small sample sizes due to cost constraints.\n",
    "\n",
    "    \n",
    "Scenario\n",
    "A manufacturer of print-heads for personal computers is interested in estimating the mean durability of their print-heads in terms of the number of characters printed before failure.\n",
    "To assess this, the manufacturer conducts a study on a small sample of print-heads due to the destructive nature of the testing process.\n",
    "\n",
    "\n",
    "## Data\n",
    "\n",
    "A total of 15 print-heads were randomly selected and tested until failure. The durability of each print-head (in millions of characters) was recorded as follows:\n",
    "1.13, 1.55, 1.43, 0.92, 1.25, 1.36, 1.32, 0.85, 1.07, 1.48, 1.20, 1.33, 1.18, 1.22, 1.29\n",
    "\n",
    "\n",
    "## Assignment Tasks\n",
    "\n",
    "\n",
    "a. Build 99% Confidence Interval Using Sample Standard Deviation\n",
    "\n",
    "Assuming the sample is representative of the population, construct a 99% confidence interval for the mean number of characters printed before the print-head fails using the sample standard deviation.\n",
    "Explain the steps you take and the rationale behind using the t-distribution for this task.\n",
    "    \n",
    "    \n",
    "b. Build 99% Confidence Interval Using Known Population Standard Deviation\n",
    "\n",
    "If it were known that the population standard deviation is 0.2 million characters, \n",
    "construct a 99% confidence interval for the mean number of characters printed before failure.\n",
    "\n"
   ]
  },
  {
   "cell_type": "code",
   "execution_count": 1,
   "id": "f3591bbf-a45d-4cfc-983a-66cb2a099d7e",
   "metadata": {},
   "outputs": [
    {
     "data": {
      "text/plain": [
       "'\\nExplanation of Using t-Distribution vs. z-Distribution\\n\\nThe t-distribution is used when the sample size is small (𝑛<30) and the population standard deviation is unknown.\\nIt accounts for the additional variability in the estimate of the standard deviation.\\n\\nThe z-distribution is appropriate when the population standard deviation is known or when the sample size is large\\nenough to approximate normality through the Central Limit Theorem.\\n\\n'"
      ]
     },
     "execution_count": 1,
     "metadata": {},
     "output_type": "execute_result"
    }
   ],
   "source": [
    "\n",
    "\n",
    "''' \n",
    "step1: calculate sample mean.\n",
    "step2: Determine the criticl value.\n",
    "step3: Compute Margin Error.\n",
    "step4:construct confidence interval.\n",
    "'''\n",
    "\n",
    "'''\n",
    "Explanation of Using t-Distribution vs. z-Distribution\n",
    "\n",
    "The t-distribution is used when the sample size is small (𝑛<30) and the population standard deviation is unknown.\n",
    "It accounts for the additional variability in the estimate of the standard deviation.\n",
    "\n",
    "The z-distribution is appropriate when the population standard deviation is known or when the sample size is large\n",
    "enough to approximate normality through the Central Limit Theorem.\n",
    "\n",
    "'''"
   ]
  },
  {
   "cell_type": "code",
   "execution_count": 4,
   "id": "ad9593ca-6314-45f6-b207-a58a1b51360c",
   "metadata": {},
   "outputs": [
    {
     "name": "stdout",
     "output_type": "stream",
     "text": [
      "Sample Mean: 1.239\n",
      "Confidence Interval using sample standard deviation: (1.0901973384384906, 1.3871359948948425)\n"
     ]
    }
   ],
   "source": [
    "# Task a: Confidence Interval Using Sample Standard Deviation\n",
    "\n",
    "import numpy as np\n",
    "from scipy.stats import t,norm\n",
    "\n",
    "#data\n",
    "durability = [1.13, 1.55, 1.43, 0.92, 1.25, 1.36, 1.32, 0.85, 1.07, 1.48, 1.20, 1.33, 1.18, 1.22, 1.29]\n",
    "n = len(durability)\n",
    "mean = np.mean(durability)\n",
    "print(f'Sample Mean: {mean:.3f}')\n",
    "sample_std = np.std(durability, ddof=1)\n",
    "\n",
    "confidence_interval = 0.99\n",
    "alpha = 1 - confidence_interval\n",
    "\n",
    "t_critical = t.ppf(1-alpha/2, df=n-1)\n",
    "margin_of_error_a = t_critical * (sample_std/np.sqrt(n))\n",
    "ci_a = (mean - margin_of_error_a, mean + margin_of_error_a )\n",
    "print('Confidence Interval using sample standard deviation:', ci_a)"
   ]
  },
  {
   "cell_type": "code",
   "execution_count": 5,
   "id": "0693bf01-d40f-4241-89d0-e908c8b7c9e7",
   "metadata": {},
   "outputs": [
    {
     "name": "stdout",
     "output_type": "stream",
     "text": [
      "Confidence Interval usind population standard deviation: (1.1056514133957607, 1.3716819199375725)\n"
     ]
    }
   ],
   "source": [
    "# Task b\n",
    "pop_std = 0.2\n",
    "z_critical = norm.ppf(1 - alpha/2)\n",
    "margin_of_error_b = z_critical * (pop_std/np.sqrt(n))\n",
    "ci_b = (mean - margin_of_error_b, mean + margin_of_error_b)\n",
    "print('Confidence Interval usind population standard deviation:', ci_b)"
   ]
  },
  {
   "cell_type": "code",
   "execution_count": null,
   "id": "91600b96-884c-44ec-9bfd-d52f01a8142a",
   "metadata": {},
   "outputs": [],
   "source": []
  }
 ],
 "metadata": {
  "kernelspec": {
   "display_name": "Python 3 (ipykernel)",
   "language": "python",
   "name": "python3"
  },
  "language_info": {
   "codemirror_mode": {
    "name": "ipython",
    "version": 3
   },
   "file_extension": ".py",
   "mimetype": "text/x-python",
   "name": "python",
   "nbconvert_exporter": "python",
   "pygments_lexer": "ipython3",
   "version": "3.12.4"
  }
 },
 "nbformat": 4,
 "nbformat_minor": 5
}
