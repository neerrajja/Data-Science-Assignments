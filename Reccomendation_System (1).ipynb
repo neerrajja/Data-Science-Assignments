{
 "cells": [
  {
   "cell_type": "markdown",
   "id": "52419c83-c29a-4f06-b8a4-645c9ae52496",
   "metadata": {},
   "source": [
    "## Tasks:\n",
    "\n",
    "### Data Preprocessing:\n",
    "\n",
    "Load the dataset into a suitable data structure (e.g., pandas DataFrame).\n",
    "Handle missing values, if any.\n",
    "Explore the dataset to understand its structure and attributes.\n",
    "\n",
    "### Feature Extraction:\n",
    "\n",
    "Decide on the features that will be used for computing similarity (e.g., genres, user ratings).\n",
    "Convert categorical features into numerical representations if necessary.\n",
    "Normalize numerical features if required.\n",
    "\n",
    "### Recommendation System:\n",
    "\n",
    "Design a function to recommend anime based on cosine similarity.\n",
    "Given a target anime, recommend a list of similar anime based on cosine similarity scores.\n",
    "Experiment with different threshold values for similarity scores to adjust the recommendation list size.\n",
    "\n",
    "### Evaluation:\n",
    "\n",
    "Split the dataset into training and testing sets.\n",
    "Evaluate the recommendation system using appropriate metrics such as precision, recall, and F1-score.\n",
    "Analyze the performance of the recommendation system and identify areas of improvement.\n"
   ]
  },
  {
   "cell_type": "code",
   "execution_count": 1,
   "id": "4cb5c75a-9bc8-496a-932a-cc1fafaea0d3",
   "metadata": {},
   "outputs": [
    {
     "name": "stdout",
     "output_type": "stream",
     "text": [
      "Recommendations for 'Naruto':\n",
      "                                                   name  \\\n",
      "7867                                    Iron Virgin Jun   \n",
      "1573  Naruto: Shippuuden Movie 3 - Hi no Ishi wo Tsu...   \n",
      "1930                                  Dragon Ball Super   \n",
      "4067                     Ikkitousen: Extravaganza Epoch   \n",
      "3038                                       Tenjou Tenge   \n",
      "\n",
      "                                                  genre rating  \n",
      "7867  Action, Comedy, Fantasy, Martial Arts, Super P...   4.81  \n",
      "1573  Action, Comedy, Martial Arts, Shounen, Super P...    7.5  \n",
      "1930  Action, Adventure, Comedy, Fantasy, Martial Ar...    7.4  \n",
      "4067  Action, Ecchi, Martial Arts, School, Seinen, S...   6.81  \n",
      "3038  Action, Comedy, Ecchi, Martial Arts, School, S...    7.1  \n"
     ]
    }
   ],
   "source": [
    "import pandas as pd\n",
    "from sklearn.metrics.pairwise import cosine_similarity\n",
    "from sklearn.feature_extraction.text import TfidfVectorizer\n",
    "from sklearn.model_selection import train_test_split\n",
    "from sklearn.metrics import precision_score, recall_score, f1_score\n",
    "\n",
    "# Load the dataset\n",
    "file_path = r\"D:\\Assignments\\Recommendation System\\anime.csv\"\n",
    "data = pd.read_csv(file_path)\n",
    "\n",
    "# Step 1: Data Preprocessing\n",
    "# Handle missing values for relevant columns\n",
    "data.fillna({'genre': 'Unknown', 'type': 'Unknown', 'rating': 0, 'episodes': 'Unknown'}, inplace=True)\n",
    "\n",
    "# Convert 'episodes' column to numerical, replacing 'Unknown' with 0\n",
    "data['episodes'] = data['episodes'].replace('Unknown', 0).astype(int)\n",
    "\n",
    "# Ensure all columns used in 'features' are strings to avoid errors\n",
    "data['genre'] = data['genre'].astype(str)\n",
    "data['type'] = data['type'].astype(str)\n",
    "data['rating'] = data['rating'].astype(str)\n",
    "\n",
    "# Combine relevant features for similarity calculation\n",
    "data['features'] = data['genre'] + \" \" + data['type'] + \" \" + data['rating']\n",
    "\n",
    "# Verify there are no NaN values in the 'features' column\n",
    "assert not data['features'].isnull().any(), \"Features column contains NaN values!\"\n",
    "\n",
    "\n",
    "\n",
    "# Step 3: Recommendation System\n",
    "def recommend_anime(anime_title, top_n=5):\n",
    "    \"\"\"\n",
    "    Recommend anime based on cosine similarity.\n",
    "    \"\"\"\n",
    "    # Get the index of the target anime\n",
    "    try:\n",
    "        target_index = data[data['name'] == anime_title].index[0]\n",
    "    except IndexError:\n",
    "        return f\"Anime '{anime_title}' not found in the dataset.\"\n",
    "\n",
    "    # Calculate cosine similarity\n",
    "    similarity_scores = cosine_similarity(tfidf_matrix[target_index], tfidf_matrix).flatten()\n",
    "\n",
    "    # Get top N similar anime indices\n",
    "    similar_indices = similarity_scores.argsort()[-top_n-1:-1][::-1]\n",
    "\n",
    "    # Return recommended anime\n",
    "    return data.iloc[similar_indices][['name', 'genre', 'rating']]\n",
    "\n",
    "# Example: Recommend similar anime to a given title\n",
    "anime_title = \"Naruto\"  # Replace with a title from your dataset\n",
    "print(f\"Recommendations for '{anime_title}':\")\n",
    "print(recommend_anime(anime_title))\n"
   ]
  },
  {
   "cell_type": "code",
   "execution_count": 3,
   "id": "e275d43d-42f2-446e-a3bf-8742a5e9023d",
   "metadata": {},
   "outputs": [],
   "source": [
    "# Step 2: Feature Extraction\n",
    "# Transform textual features into numerical using TF-IDF\n",
    "tfidf_vectorizer = TfidfVectorizer(stop_words='english')\n",
    "tfidf_matrix = tfidf_vectorizer.fit_transform(data['features'])\n"
   ]
  },
  {
   "cell_type": "code",
   "execution_count": 2,
   "id": "072ad4c0-d883-4e80-ad85-ba7f7f4db498",
   "metadata": {},
   "outputs": [],
   "source": [
    "# Step 3: Recommendation System\n",
    "def recommend_anime(anime_title, top_n=5):\n",
    "    \"\"\"\n",
    "    Recommend anime based on cosine similarity.\n",
    "    \"\"\"\n",
    "    # Get the index of the target anime\n",
    "    try:\n",
    "        target_index = data[data['name'] == anime_title].index[0]\n",
    "    except IndexError:\n",
    "        return f\"Anime '{anime_title}' not found in the dataset.\"\n",
    "\n",
    "    # Calculate cosine similarity\n",
    "    similarity_scores = cosine_similarity(tfidf_matrix[target_index], tfidf_matrix).flatten()\n",
    "\n",
    "    # Get top N similar anime indices\n",
    "    similar_indices = similarity_scores.argsort()[-top_n-1:-1][::-1]\n",
    "\n",
    "    # Return recommended anime\n",
    "    return data.iloc[similar_indices][['name', 'genre', 'rating']]\n"
   ]
  },
  {
   "cell_type": "code",
   "execution_count": 4,
   "id": "c39c1f03-eb47-4912-962b-8afe9f032114",
   "metadata": {},
   "outputs": [
    {
     "name": "stdout",
     "output_type": "stream",
     "text": [
      "Recommendations for 'Naruto':\n",
      "                                                   name  \\\n",
      "7867                                    Iron Virgin Jun   \n",
      "1573  Naruto: Shippuuden Movie 3 - Hi no Ishi wo Tsu...   \n",
      "1930                                  Dragon Ball Super   \n",
      "4067                     Ikkitousen: Extravaganza Epoch   \n",
      "3038                                       Tenjou Tenge   \n",
      "\n",
      "                                                  genre rating  \n",
      "7867  Action, Comedy, Fantasy, Martial Arts, Super P...   4.81  \n",
      "1573  Action, Comedy, Martial Arts, Shounen, Super P...    7.5  \n",
      "1930  Action, Adventure, Comedy, Fantasy, Martial Ar...    7.4  \n",
      "4067  Action, Ecchi, Martial Arts, School, Seinen, S...   6.81  \n",
      "3038  Action, Comedy, Ecchi, Martial Arts, School, S...    7.1  \n"
     ]
    }
   ],
   "source": [
    "# Example: Recommend similar anime to a given title\n",
    "anime_title = \"Naruto\"  # Replace with a title from your dataset\n",
    "print(f\"Recommendations for '{anime_title}':\")\n",
    "print(recommend_anime(anime_title))\n"
   ]
  },
  {
   "cell_type": "markdown",
   "id": "c5111f46-2a9d-4c86-93b7-e3cc26d5b2cf",
   "metadata": {},
   "source": [
    "### **Interview Questions Explained**\n",
    "\n",
    "1. **Difference Between User-Based and Item-Based Collaborative Filtering:**\n",
    "   - **User-Based Collaborative Filtering**: Recommends items based on the similarity between users. If two users have a similar rating pattern, the system recommends items liked by one user to the other.\n",
    "   - **Item-Based Collaborative Filtering**: Focuses on the similarity between items. It recommends items that are similar to the ones the user has already liked or interacted with.\n",
    "\n",
    "2. **What is Collaborative Filtering, and How Does It Work?**\n",
    "   - **Definition**: Collaborative filtering is a recommendation technique that predicts a user's preferences based on the preferences of similar users or items.\n",
    "   - **Working**:\n",
    "     - Create a matrix of users vs. items, with values representing interactions (e.g., ratings).\n",
    "     - Calculate similarities (using cosine similarity, Pearson correlation, etc.) between users or items.\n",
    "     - Predict the missing values in the matrix based on these similarities to make recommendations."
   ]
  },
  {
   "cell_type": "markdown",
   "id": "384d0087-a612-4d98-a52f-f0d711a9a240",
   "metadata": {},
   "source": [
    "### Answer 1\n",
    "User-Based Collaborative Filtering:\n",
    "\n",
    "Focuses on user similarities.\n",
    "If User A and User B have rated items similarly, items liked by User A are recommended to User B.\n",
    "Example: Netflix recommending movies watched by users with similar viewing patterns.\n",
    "\n",
    "Item-Based Collaborative Filtering:\n",
    "\n",
    "Focuses on item similarities.\n",
    "Recommends items similar to the ones a user has interacted with based on other users' preferences.\n",
    "Example: Amazon suggesting items frequently bought together with a product."
   ]
  },
  {
   "cell_type": "code",
   "execution_count": null,
   "id": "19ba2b0d-06bf-4b8c-945a-024aad751c67",
   "metadata": {},
   "outputs": [],
   "source": [
    "### A"
   ]
  }
 ],
 "metadata": {
  "kernelspec": {
   "display_name": "Python 3 (ipykernel)",
   "language": "python",
   "name": "python3"
  },
  "language_info": {
   "codemirror_mode": {
    "name": "ipython",
    "version": 3
   },
   "file_extension": ".py",
   "mimetype": "text/x-python",
   "name": "python",
   "nbconvert_exporter": "python",
   "pygments_lexer": "ipython3",
   "version": "3.12.4"
  }
 },
 "nbformat": 4,
 "nbformat_minor": 5
}
