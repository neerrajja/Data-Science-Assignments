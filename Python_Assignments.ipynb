{
 "cells": [
  {
   "cell_type": "markdown",
   "id": "41ab23c5-93e0-4f25-b132-9d840cfa2c8f",
   "metadata": {},
   "source": [
    "## Exercise 1: Prime Numbers\n",
    "\n",
    "Write a Python program that checks whether a given number is prime or not.\n",
    "A prime number is a natural number greater than 1 that has no positive divisors other than 1 and itself.\n"
   ]
  },
  {
   "cell_type": "code",
   "execution_count": 27,
   "id": "6f7f17b4-6cc4-41c4-a69a-e1ad36a0837d",
   "metadata": {},
   "outputs": [
    {
     "name": "stdin",
     "output_type": "stream",
     "text": [
      "Enter the number:  4\n"
     ]
    },
    {
     "name": "stdout",
     "output_type": "stream",
     "text": [
      "IS NOT PRIME\n"
     ]
    }
   ],
   "source": [
    "num = int(input(\"Enter the number: \"))\n",
    "for i in range(2,num):\n",
    "    if num%i == 0:\n",
    "        print(\"IS NOT PRIME\")\n",
    "        break\n",
    "else:\n",
    "    print(\"prime\") #since for else works in python condition is given in for loop"
   ]
  },
  {
   "cell_type": "markdown",
   "id": "eeba6043-3782-4d08-be20-12f2d6c248fd",
   "metadata": {},
   "source": [
    " ## Exercise 2: Product of Random Numbers\n",
    "\n",
    "\n",
    "Develop a Python program that generates two random numbers and asks the user to enter the product of these numbers.\n",
    "The program should then check if the user's answer is correct and display an appropriate message.\n"
   ]
  },
  {
   "cell_type": "code",
   "execution_count": 30,
   "id": "48d3f64b-cec3-41ea-adb6-de60e3c57f50",
   "metadata": {},
   "outputs": [
    {
     "name": "stdout",
     "output_type": "stream",
     "text": [
      "GUESS THE PRODUCT OF 3 AND 6\n"
     ]
    },
    {
     "name": "stdin",
     "output_type": "stream",
     "text": [
      "ENTER THE PRODUCT:  89\n"
     ]
    },
    {
     "name": "stdout",
     "output_type": "stream",
     "text": [
      "TRY AGAIN\n"
     ]
    },
    {
     "name": "stdin",
     "output_type": "stream",
     "text": [
      "ENTER THE PRODUCT:  70\n"
     ]
    },
    {
     "name": "stdout",
     "output_type": "stream",
     "text": [
      "TRY AGAIN\n"
     ]
    },
    {
     "name": "stdin",
     "output_type": "stream",
     "text": [
      "ENTER THE PRODUCT:  18\n"
     ]
    },
    {
     "name": "stdout",
     "output_type": "stream",
     "text": [
      "GREAT!!YOU DID WELL\n"
     ]
    }
   ],
   "source": [
    "import random                                   #importing random to use randint for generating two integers between a particular range\n",
    "a = random.randint(0,10)\n",
    "b = random.randint(0,10)\n",
    "print(\"GUESS THE PRODUCT OF\",a,\"AND\",b)\n",
    "while True:                                     #The user will hav to enter the input until the entered number is wrong.\n",
    "    c = int(input(\"ENTER THE PRODUCT: \"))\n",
    "    if c == (a*b):\n",
    "        print(\"GREAT!!YOU DID WELL\")\n",
    "        break\n",
    "    else:\n",
    "        print(\"TRY AGAIN\")\n",
    "\n",
    "    "
   ]
  },
  {
   "cell_type": "markdown",
   "id": "7584fc22-a678-47b6-a605-69e394edbd05",
   "metadata": {},
   "source": [
    "## Exercise 3: Squares of Even/Odd Numbers\n",
    "\n",
    "Create a Python script that prints the squares of all even or odd numbers within the range of 100 to 200.\n",
    "Choose either even or odd numbers and document your choice in the code.\n"
   ]
  },
  {
   "cell_type": "code",
   "execution_count": 28,
   "id": "3bd044bc-c295-4a6c-96bb-cedebd23386b",
   "metadata": {},
   "outputs": [
    {
     "name": "stdout",
     "output_type": "stream",
     "text": [
      "The square of even numbers from 100 and 200: \n",
      "[10000, 10404, 10816, 11236, 11664, 12100, 12544, 12996, 13456, 13924, 14400, 14884, 15376, 15876, 16384, 16900, 17424, 17956, 18496, 19044, 19600, 20164, 20736, 21316, 21904, 22500, 23104, 23716, 24336, 24964, 25600, 26244, 26896, 27556, 28224, 28900, 29584, 30276, 30976, 31684, 32400, 33124, 33856, 34596, 35344, 36100, 36864, 37636, 38416, 39204]\n"
     ]
    }
   ],
   "source": [
    "print(\"The square of even numbers from 100 and 200: \")\n",
    "squares = []\n",
    "for i in range(100,200):                    #squares of even numbers\n",
    "    if i%2 == 0:\n",
    "        sq = i**2\n",
    "        squares.append(sq)\n",
    "print(squares) "
   ]
  },
  {
   "cell_type": "markdown",
   "id": "dc39e2c0-697c-4093-8073-cdab04dcd2f5",
   "metadata": {},
   "source": [
    "## Exercise 4: Word counter\n",
    "\n",
    "write a program to count the number of words in a given text.\n",
    "example:\n",
    "input_text = \"This is a sample text. This text will be used to demonstrate the word counter.\"\n",
    "Expected output:\n",
    "'This': 2 \n",
    "'is': 1\n",
    "'a': 1\n",
    "'sample': 1\n",
    "'text.': 1\n",
    "\n"
   ]
  },
  {
   "cell_type": "code",
   "execution_count": 29,
   "id": "b00b0ba3-7621-499b-b77a-6b268b93545d",
   "metadata": {},
   "outputs": [
    {
     "name": "stdin",
     "output_type": "stream",
     "text": [
      " This is a sample text. This text will be used to demonstrate the word counter.\n"
     ]
    },
    {
     "name": "stdout",
     "output_type": "stream",
     "text": [
      "This : 2\n",
      "is : 1\n",
      "a : 1\n",
      "sample : 1\n",
      "text. : 1\n",
      "text : 1\n",
      "will : 1\n",
      "be : 1\n",
      "used : 1\n",
      "to : 1\n",
      "demonstrate : 1\n",
      "the : 1\n",
      "word : 1\n",
      "counter. : 1\n"
     ]
    }
   ],
   "source": [
    "text = input().split()\n",
    "count = {}                     #initializing dictionary\n",
    "for i in text:\n",
    "    if i in count:\n",
    "        count[i] += 1\n",
    "    else:\n",
    "        count[i] = 1\n",
    "#print(count)\n",
    "for i,j in count.items():       #printing each item of the dictionary\n",
    "    print(i,':', j)\n",
    "    \n",
    "    "
   ]
  },
  {
   "cell_type": "markdown",
   "id": "6cf2dc0d-160c-4574-9667-0aa677dc2fca",
   "metadata": {},
   "source": [
    "## Exercise 5: Check for Palindrome\n",
    "\n",
    "Write a Python function called is_palindrome that takes a string as input and returns True if the string is a palindrome,\n",
    "and False otherwise. A palindrome is a word, phrase, number, or other sequence of characters that reads the same forward \n",
    "and backward, ignoring spaces, punctuation, and capitalization.\n"
   ]
  },
  {
   "cell_type": "code",
   "execution_count": 31,
   "id": "c5e788db-0031-476a-870d-08875ac451b9",
   "metadata": {},
   "outputs": [
    {
     "name": "stdin",
     "output_type": "stream",
     "text": [
      " malayalam\n"
     ]
    },
    {
     "data": {
      "text/plain": [
       "True"
      ]
     },
     "execution_count": 31,
     "metadata": {},
     "output_type": "execute_result"
    }
   ],
   "source": [
    "def is_pallindrome(word):\n",
    "    reverse = word[::-1]        #finding reverse by making advantage of the python string properties.\n",
    "                                \n",
    "    if reverse == word:\n",
    "        return True\n",
    "    else:\n",
    "        return False\n",
    "        \n",
    "is_pallindrome(input())"
   ]
  },
  {
   "cell_type": "code",
   "execution_count": null,
   "id": "acc2a283-a52a-4a3b-a4ce-1cf015d5971b",
   "metadata": {},
   "outputs": [],
   "source": []
  },
  {
   "cell_type": "code",
   "execution_count": null,
   "id": "4b574c3f-5cca-494c-b457-d88494e5de29",
   "metadata": {},
   "outputs": [],
   "source": []
  }
 ],
 "metadata": {
  "kernelspec": {
   "display_name": "Python 3 (ipykernel)",
   "language": "python",
   "name": "python3"
  },
  "language_info": {
   "codemirror_mode": {
    "name": "ipython",
    "version": 3
   },
   "file_extension": ".py",
   "mimetype": "text/x-python",
   "name": "python",
   "nbconvert_exporter": "python",
   "pygments_lexer": "ipython3",
   "version": "3.12.4"
  }
 },
 "nbformat": 4,
 "nbformat_minor": 5
}
