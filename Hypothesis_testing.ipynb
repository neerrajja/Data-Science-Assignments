{
 "cells": [
  {
   "cell_type": "markdown",
   "id": "1fc2b713-3294-4162-9c93-5d38c9290c36",
   "metadata": {},
   "source": [
    "### 1. State the Hypotheses statement:"
   ]
  },
  {
   "cell_type": "code",
   "execution_count": 1,
   "id": "d52dba75-8ceb-40ad-b638-f3050360cca5",
   "metadata": {},
   "outputs": [],
   "source": [
    "import math\n",
    "from scipy.stats import norm\n",
    "\n",
    "# Given data\n",
    "sample_mean = 3050  # Rs. 3,050\n",
    "sample_size = 25\n",
    "alpha = 0.05  # Significance level\n",
    "mu_theoretical = 1000 + 5 * 600  # Theoretical weekly operating cost\n",
    "sigma_x = 5 * 25  # Standard deviation\n",
    "\n",
    "# Step 1: State the hypotheses\n",
    "# H0: The weekly operating cost is as per the theoretical model (W = $1,000 + $5X)\n",
    "# H1: The weekly operating cost is higher than the theoretical model"
   ]
  },
  {
   "cell_type": "markdown",
   "id": "6f0418a5-518a-443a-8cea-76c394eecac2",
   "metadata": {},
   "source": [
    "### 2. Calculate the Test Statistic:\n",
    "Use the following formula to calculate the test statistic (t):\n",
    "where:\n",
    "•\tˉxˉ = sample mean weekly cost (Rs. 3,050)\n",
    "•\tμ = theoretical mean weekly cost according to the cost model (W = $1,000 + $5X for X = 600 units)\n",
    "•\tσ = 5*25 units\n",
    "•\tn = sample size (25 restaurants)\n"
   ]
  },
  {
   "cell_type": "code",
   "execution_count": 3,
   "id": "39bda000-54b0-4aed-80ed-5e9b4863c7f7",
   "metadata": {},
   "outputs": [
    {
     "data": {
      "text/plain": [
       "-38.0"
      ]
     },
     "execution_count": 3,
     "metadata": {},
     "output_type": "execute_result"
    }
   ],
   "source": [
    "# Step 2: Calculate the test statistic (t)\n",
    "t = (sample_mean - mu_theoretical) / (sigma_x / math.sqrt(sample_size))\n",
    "t"
   ]
  },
  {
   "cell_type": "markdown",
   "id": "8fd4efb2-c42d-490c-97ae-40ad83b37096",
   "metadata": {},
   "source": [
    "### 3. Determine the Critical Value:\n",
    "Using the alpha level of 5% (α = 0.05), determine the critical value from the standard normal (Z) distribution table.\n"
   ]
  },
  {
   "cell_type": "code",
   "execution_count": 4,
   "id": "9e1d7ff8-14c6-4ab5-b15f-8745265c27d5",
   "metadata": {},
   "outputs": [
    {
     "data": {
      "text/plain": [
       "1.6448536269514722"
      ]
     },
     "execution_count": 4,
     "metadata": {},
     "output_type": "execute_result"
    }
   ],
   "source": [
    "# Step 3: Determine the critical value for one-tailed test\n",
    "critical_value = norm.ppf(1 - alpha)  # Z critical value for alpha = 0.05\n",
    "critical_value"
   ]
  },
  {
   "cell_type": "markdown",
   "id": "87df8379-2521-4e92-8154-c236f1af90b8",
   "metadata": {},
   "source": [
    "### 4. Make a Decision:\n",
    "Compare the test statistic with the critical value to decide whether to reject the null hypothesis.\n"
   ]
  },
  {
   "cell_type": "code",
   "execution_count": null,
   "id": "5a6f9bab-30af-4d21-b619-b21aba7be442",
   "metadata": {},
   "outputs": [],
   "source": []
  }
 ],
 "metadata": {
  "kernelspec": {
   "display_name": "Python 3 (ipykernel)",
   "language": "python",
   "name": "python3"
  },
  "language_info": {
   "codemirror_mode": {
    "name": "ipython",
    "version": 3
   },
   "file_extension": ".py",
   "mimetype": "text/x-python",
   "name": "python",
   "nbconvert_exporter": "python",
   "pygments_lexer": "ipython3",
   "version": "3.12.4"
  }
 },
 "nbformat": 4,
 "nbformat_minor": 5
}
